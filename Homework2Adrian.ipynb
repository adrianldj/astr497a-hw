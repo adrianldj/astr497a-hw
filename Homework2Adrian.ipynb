{
 "cells": [
  {
   "cell_type": "code",
   "execution_count": 2,
   "metadata": {
    "collapsed": false
   },
   "outputs": [
    {
     "name": "stdout",
     "output_type": "stream",
     "text": [
      "Populating the interactive namespace from numpy and matplotlib\n"
     ]
    }
   ],
   "source": [
    "import numpy as np\n",
    "import matplotlib.pyplot as plt\n",
    "from astropy.io import fits\n",
    "%pylab inline\n",
    "import os"
   ]
  },
  {
   "cell_type": "code",
   "execution_count": 3,
   "metadata": {
    "collapsed": false
   },
   "outputs": [],
   "source": [
    "import os\n",
    "from lsd import DB\n",
    "import lsd.bounds as b"
   ]
  },
  {
   "cell_type": "code",
   "execution_count": 5,
   "metadata": {
    "collapsed": false
   },
   "outputs": [
    {
     "name": "stderr",
     "output_type": "stream",
     "text": [
      "WARNING:lsd.pool2:Error contacting lsd-manager. Cannot coordinate resource usage with others, using 2 cores.\n",
      " [480 el.]WARNING:lsd.pool2:Error contacting lsd-manager. Cannot coordinate resource usage with others, using 2 cores.\n",
      "::::WARNING:lsd.pool2:Error contacting lsd-manager. Cannot coordinate resource usage with others, using 2 cores.\n",
      "::::WARNING:lsd.pool2:Error contacting lsd-manager. Cannot coordinate resource usage with others, using 2 cores.\n",
      "::::WARNING:lsd.pool2:Error contacting lsd-manager. Cannot coordinate resource usage with others, using 2 cores.\n",
      ":::WARNING:lsd.pool2:Error contacting lsd-manager. Cannot coordinate resource usage with others, using 2 cores.\n",
@
"Homework2.ipynb" 2119L, 173592C
